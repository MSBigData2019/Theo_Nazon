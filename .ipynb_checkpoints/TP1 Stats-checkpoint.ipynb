{
 "cells": [
  {
   "cell_type": "code",
   "execution_count": 158,
   "metadata": {},
   "outputs": [],
   "source": [
    "import pandas as pd\n",
    "import matplotlib.pyplot as plt\n",
    "import seaborn as sns\n",
    "from scipy.interpolate import BSpline\n",
    "import numpy as np\n",
    "import math as m\n",
    "\n",
    "plt.style.use('seaborn')"
   ]
  },
  {
   "cell_type": "code",
   "execution_count": 159,
   "metadata": {},
   "outputs": [],
   "source": [
    "df = pd.read_csv(\"https://bitbucket.org/portierf/shared_files/downloads/invest.txt\", sep = \" \")"
   ]
  },
  {
   "cell_type": "code",
   "execution_count": 160,
   "metadata": {},
   "outputs": [
    {
     "data": {
      "text/html": [
       "<div>\n",
       "<style scoped>\n",
       "    .dataframe tbody tr th:only-of-type {\n",
       "        vertical-align: middle;\n",
       "    }\n",
       "\n",
       "    .dataframe tbody tr th {\n",
       "        vertical-align: top;\n",
       "    }\n",
       "\n",
       "    .dataframe thead th {\n",
       "        text-align: right;\n",
       "    }\n",
       "</style>\n",
       "<table border=\"1\" class=\"dataframe\">\n",
       "  <thead>\n",
       "    <tr style=\"text-align: right;\">\n",
       "      <th></th>\n",
       "      <th>year</th>\n",
       "      <th>gnp</th>\n",
       "      <th>invest</th>\n",
       "      <th>cpi</th>\n",
       "      <th>interest</th>\n",
       "    </tr>\n",
       "  </thead>\n",
       "  <tbody>\n",
       "    <tr>\n",
       "      <th>0</th>\n",
       "      <td>1968</td>\n",
       "      <td>873.4</td>\n",
       "      <td>133.3</td>\n",
       "      <td>82.54</td>\n",
       "      <td>5.16</td>\n",
       "    </tr>\n",
       "    <tr>\n",
       "      <th>1</th>\n",
       "      <td>1969</td>\n",
       "      <td>944.0</td>\n",
       "      <td>149.3</td>\n",
       "      <td>86.79</td>\n",
       "      <td>5.87</td>\n",
       "    </tr>\n",
       "    <tr>\n",
       "      <th>2</th>\n",
       "      <td>1970</td>\n",
       "      <td>992.7</td>\n",
       "      <td>144.2</td>\n",
       "      <td>91.45</td>\n",
       "      <td>5.95</td>\n",
       "    </tr>\n",
       "    <tr>\n",
       "      <th>3</th>\n",
       "      <td>1971</td>\n",
       "      <td>1077.6</td>\n",
       "      <td>166.4</td>\n",
       "      <td>96.01</td>\n",
       "      <td>4.88</td>\n",
       "    </tr>\n",
       "    <tr>\n",
       "      <th>4</th>\n",
       "      <td>1972</td>\n",
       "      <td>1185.9</td>\n",
       "      <td>195.0</td>\n",
       "      <td>100.00</td>\n",
       "      <td>4.50</td>\n",
       "    </tr>\n",
       "  </tbody>\n",
       "</table>\n",
       "</div>"
      ],
      "text/plain": [
       "   year     gnp  invest     cpi  interest\n",
       "0  1968   873.4   133.3   82.54      5.16\n",
       "1  1969   944.0   149.3   86.79      5.87\n",
       "2  1970   992.7   144.2   91.45      5.95\n",
       "3  1971  1077.6   166.4   96.01      4.88\n",
       "4  1972  1185.9   195.0  100.00      4.50"
      ]
     },
     "metadata": {},
     "output_type": "display_data"
    }
   ],
   "source": [
    "# print(df.describe())\n",
    "display(df.head(5))"
   ]
  },
  {
   "cell_type": "code",
   "execution_count": 161,
   "metadata": {},
   "outputs": [
    {
     "data": {
      "image/png": "[encoded data removed]",
      "text/plain": [
       "<matplotlib.figure.Figure at 0x7fbdf7076860>"
      ]
     },
     "metadata": {},
     "output_type": "display_data"
    }
   ],
   "source": [
    "# Add units\n",
    "# Smoothen lines\n",
    "\n",
    "graph = plt.plot(df['gnp'], df['invest'])\n",
    "\n",
    "plt.xlabel(\"Gross National Product\")\n",
    "\n",
    "plt.ylabel(\"Investment\")\n",
    "plt.title(\"GNP vs. Investment\")\n",
    "plt.show()\n",
    "\n",
    "\n",
    "# xnew = np.linspace(T.min(),T.max(),300) #300 represents number of points to make between T.min and T.max\n",
    "# power_smooth = spline(T,power,xnew)\n",
    "# x_new = np.linspace(df[\"gnp\"].min(), df[\"gnp\"].max(), 400)\n",
    "# investment_smooth = BSpline(df[\"gnp\"], df[\"invest\"], x_new)\n",
    "# plt.plot(xnew,power_smooth)\n",
    "plt.show()"
   ]
  },
  {
   "cell_type": "code",
   "execution_count": 162,
   "metadata": {},
   "outputs": [],
   "source": [
    "# Check if any negative values in both columns "
   ]
  },
  {
   "cell_type": "code",
   "execution_count": 163,
   "metadata": {},
   "outputs": [],
   "source": [
    "df[\"gnp\"] = np.log(df[\"gnp\"])\n",
    "df[\"invest\"] = np.log(df[\"invest\"])"
   ]
  },
  {
   "cell_type": "code",
   "execution_count": 164,
   "metadata": {},
   "outputs": [],
   "source": [
    "# Question 3 (cf Exercice 12)"
   ]
  },
  {
   "cell_type": "code",
   "execution_count": null,
   "metadata": {},
   "outputs": [],
   "source": []
  },
  {
   "cell_type": "code",
   "execution_count": 165,
   "metadata": {},
   "outputs": [
    {
     "name": "stdout",
     "output_type": "stream",
     "text": [
      "5.532760631125744\n",
      "7.383521410468692\n"
     ]
    }
   ],
   "source": [
    "# Calcul des moyennes des Xi et des Yi\n",
    "avg_invest = np.average(df['invest'])\n",
    "print(avg_invest)\n",
    "avg_gnp    = np.average(df['gnp'])\n",
    "print(avg_gnp)\n"
   ]
  },
  {
   "cell_type": "code",
   "execution_count": 166,
   "metadata": {},
   "outputs": [
    {
     "name": "stdout",
     "output_type": "stream",
     "text": [
      "1.015281401598871\n"
     ]
    }
   ],
   "source": [
    "# Creation d'un vecteur de meme dimension que X et Y\n",
    "# REVOIR SANS NUMPY\n",
    "I = np.ones(df['gnp'].shape)\n",
    "\n",
    "# Calcul de Beta1\n",
    "theta_1_num = np.dot(df['gnp'] - np.multiply(avg_gnp, np.transpose(I)), df['invest'] - np.multiply(avg_invest, np.transpose(I)))\n",
    "# beta_1_denum = np.transpose(df['gnp'] - np.multiply(avg_gnp, np.transpose(I)))\n",
    "# beta_1_denum_2 = df['gnp'] - np.multiply(avg_gnp, np.transpose(I))\n",
    "\n",
    "theta_1_denum = np.dot(np.transpose(df['gnp'] - np.multiply(avg_gnp, np.transpose(I))), df['gnp'] - np.multiply(avg_gnp, np.transpose(I)))\n",
    "\n",
    "theta_1 = theta_1_num/theta_1_denum\n",
    "\n",
    "print(theta_1)"
   ]
  },
  {
   "cell_type": "code",
   "execution_count": 167,
   "metadata": {},
   "outputs": [
    {
     "name": "stdout",
     "output_type": "stream",
     "text": [
      "-1.9635913352301815\n"
     ]
    }
   ],
   "source": [
    "# Intercept Beta0 \n",
    "theta_0 = avg_invest - theta_1 * avg_gnp\n",
    "\n",
    "print(beta_0)"
   ]
  },
  {
   "cell_type": "code",
   "execution_count": 168,
   "metadata": {},
   "outputs": [],
   "source": [
    "# Question 4 T-stat de Matthieu - 18.33  Benoit - "
   ]
  },
  {
   "cell_type": "code",
   "execution_count": 169,
   "metadata": {},
   "outputs": [],
   "source": [
    "# Prenons l'hypothese que theta_1 = 0"
   ]
  },
  {
   "cell_type": "code",
   "execution_count": 170,
   "metadata": {},
   "outputs": [],
   "source": [
    "# On sait que theta_1 / (ecart_type * l'element en (1,1) de (X.tX)-1 suit une loi de Student\n",
    "# D'apres exercice 12, kl nous faut la variance empirique de X et le sigma_chapeau  "
   ]
  },
  {
   "cell_type": "code",
   "execution_count": 171,
   "metadata": {},
   "outputs": [
    {
     "name": "stdout",
     "output_type": "stream",
     "text": [
      "0.0076763385554603665\n"
     ]
    }
   ],
   "source": [
    "n = df['invest'].shape[0]\n",
    "sigma_chap_2 = 1/(n-2) * ((df['invest'] - theta_0 - theta_1 * df['gnp']) ** 2).sum() \n",
    "print(sigma_chap_2)"
   ]
  },
  {
   "cell_type": "code",
   "execution_count": 172,
   "metadata": {},
   "outputs": [
    {
     "name": "stdout",
     "output_type": "stream",
     "text": [
      "0.0030672833742692554\n"
     ]
    }
   ],
   "source": [
    "V_theta_1 = sigma_chap_2 / theta_1_denum\n",
    "print(V_theta_1)"
   ]
  },
  {
   "cell_type": "code",
   "execution_count": 173,
   "metadata": {},
   "outputs": [
    {
     "name": "stdout",
     "output_type": "stream",
     "text": [
      "18.33198445686672\n"
     ]
    }
   ],
   "source": [
    "print(theta_1 / m.sqrt(V_theta_1))"
   ]
  },
  {
   "cell_type": "code",
   "execution_count": 174,
   "metadata": {},
   "outputs": [],
   "source": [
    "# Question 5 4.92 5.17 PI |||| 5.00 5.09"
   ]
  },
  {
   "cell_type": "code",
   "execution_count": 175,
   "metadata": {},
   "outputs": [
    {
     "name": "stdout",
     "output_type": "stream",
     "text": [
      "5.049724126316802\n",
      "155.97942793105494\n"
     ]
    }
   ],
   "source": [
    "predicted_value_log = theta_0 + theta_1 * m.log(1000)\n",
    "print(predicted_value_log)\n",
    "\n",
    "print(m.exp(predicted_value))"
   ]
  },
  {
   "cell_type": "code",
   "execution_count": 234,
   "metadata": {
    "scrolled": true
   },
   "outputs": [
    {
     "name": "stdout",
     "output_type": "stream",
     "text": [
      "5.049028764225843 5.05041948840776\n"
     ]
    }
   ],
   "source": [
    "# CI\n",
    "x_new = m.log(1000)\n",
    "quantile = 1.350\n",
    "\n",
    "def ci_inf(x):\n",
    "    return np.dot(np.transpose([1, x]), [theta_0, theta_1]) - quantile * (1 - 0.05/2) * m.sqrt(sigma_chap_2) * ((1 / n) * ((x - avg_gnp) ** 2) / theta_1_denum)\n",
    "\n",
    "def ci_sup(x):\n",
    "    return np.dot(np.transpose([1, x]), [theta_0, theta_1]) + quantile * (1 - 0.05/2) * m.sqrt(sigma_chap_2) * ((1 / n) * ((x - avg_gnp) ** 2) / theta_1_denum)\n",
    "\n",
    "print(ci_inf(x_new), ci_sup(x_new))"
   ]
  },
  {
   "cell_type": "code",
   "execution_count": 235,
   "metadata": {},
   "outputs": [
    {
     "name": "stdout",
     "output_type": "stream",
     "text": [
      "4.933705893571988 5.165742359061616\n"
     ]
    }
   ],
   "source": [
    "# PI\n",
    "\n",
    "def pi_sup(x):\n",
    "    return np.dot(np.transpose([1, x]), [theta_0, theta_1]) + quantile * (1 - 0.05/2) * m.sqrt(sigma_chap_2) * (1 + (1 / n) * ((x - avg_gnp) ** 2) / theta_1_denum)\n",
    "\n",
    "def pi_inf(x):\n",
    "    return np.dot(np.transpose([1, x]), [theta_0, theta_1]) - quantile * (1 - 0.05/2) * m.sqrt(sigma_chap_2) * (1 + (1 / n) * ((x - avg_gnp) ** 2) / theta_1_denum)\n",
    "\n",
    "print(pi_inf(x_new), pi_sup(x_new))"
   ]
  },
  {
   "cell_type": "code",
   "execution_count": 229,
   "metadata": {},
   "outputs": [],
   "source": [
    "# Question 6"
   ]
  },
  {
   "cell_type": "code",
   "execution_count": 245,
   "metadata": {},
   "outputs": [
    {
     "ename": "TypeError",
     "evalue": "'map' object is not callable",
     "output_type": "error",
     "traceback": [
      "\u001b[0;31m---------------------------------------------------------------------------\u001b[0m",
      "\u001b[0;31mTypeError\u001b[0m                                 Traceback (most recent call last)",
      "\u001b[0;32m<ipython-input-245-33809f4456cb>\u001b[0m in \u001b[0;36m<module>\u001b[0;34m()\u001b[0m\n\u001b[1;32m      4\u001b[0m \u001b[0mplt\u001b[0m\u001b[0;34m.\u001b[0m\u001b[0mplot\u001b[0m\u001b[0;34m(\u001b[0m\u001b[0mx_reg\u001b[0m\u001b[0;34m,\u001b[0m \u001b[0my_reg\u001b[0m\u001b[0;34m)\u001b[0m\u001b[0;34m\u001b[0m\u001b[0m\n\u001b[1;32m      5\u001b[0m \u001b[0;34m\u001b[0m\u001b[0m\n\u001b[0;32m----> 6\u001b[0;31m \u001b[0mpi_sup\u001b[0m \u001b[0;34m=\u001b[0m \u001b[0mlist\u001b[0m\u001b[0;34m(\u001b[0m\u001b[0mmap\u001b[0m\u001b[0;34m(\u001b[0m\u001b[0mpi_sup\u001b[0m\u001b[0;34m,\u001b[0m \u001b[0mx_reg\u001b[0m\u001b[0;34m)\u001b[0m\u001b[0;34m)\u001b[0m\u001b[0;34m\u001b[0m\u001b[0m\n\u001b[0m\u001b[1;32m      7\u001b[0m \u001b[0mprint\u001b[0m\u001b[0;34m(\u001b[0m\u001b[0mpi_sup\u001b[0m\u001b[0;34m)\u001b[0m\u001b[0;34m\u001b[0m\u001b[0m\n\u001b[1;32m      8\u001b[0m \u001b[0mpi_inf\u001b[0m \u001b[0;34m=\u001b[0m \u001b[0mlist\u001b[0m\u001b[0;34m(\u001b[0m\u001b[0mmap\u001b[0m\u001b[0;34m(\u001b[0m\u001b[0mpi_inf\u001b[0m\u001b[0;34m,\u001b[0m \u001b[0mx_reg\u001b[0m\u001b[0;34m)\u001b[0m\u001b[0;34m)\u001b[0m\u001b[0;34m\u001b[0m\u001b[0m\n",
      "\u001b[0;31mTypeError\u001b[0m: 'map' object is not callable"
     ]
    },
    {
     "data": {
      "image/png": "[encoded data removed]",
      "text/plain": [
       "<matplotlib.figure.Figure at 0x7fbdf37e5358>"
      ]
     },
     "metadata": {},
     "output_type": "display_data"
    }
   ],
   "source": [
    "plt.scatter(df['gnp'], df['invest'], color = 'green')\n",
    "x_reg = np.linspace(df['gnp'].min(), df['gnp'].max(), 500)\n",
    "y_reg = theta_0 + theta_1 * x_reg\n",
    "plt.plot(x_reg, y_reg)\n",
    "\n",
    "pi_sup = list(map(pi_sup, x_reg))\n",
    "# pi_inf = list(map(pi_inf, x_reg))\n",
    "\n",
    "\n",
    "# Shade the confidence interval\n",
    "plt.fill_between(x_reg, pi_inf, pi_sup, color = '#539caf', alpha = 0.4, label = '95% CI')\n",
    "# Label the axes and provide a title\n",
    "\n",
    "# Display legend\n",
    "\n",
    "\n",
    "# https://www.datascience.com/blog/learn-data-science-intro-to-data-visualization-in-matplotlib\n",
    "plt.show()"
   ]
  },
  {
   "cell_type": "code",
   "execution_count": null,
   "metadata": {},
   "outputs": [],
   "source": [
    "    # Create the plot object\n",
    "    _, ax = plt.subplots()\n",
    "\n",
    "    # Plot the data, set the linewidth, color and transparency of the\n",
    "    # line, provide a label for the legend\n",
    "    ax.plot(x_data, y_data, lw = 1, color = '#539caf', alpha = 1, label = 'Fit')\n",
    "    # Shade the confidence interval\n",
    "    ax.fill_between(sorted_x, low_CI, upper_CI, color = '#539caf', alpha = 0.4, label = '95% CI')\n",
    "    # Label the axes and provide a title\n",
    "    ax.set_title(title)\n",
    "    ax.set_xlabel(x_label)\n",
    "    ax.set_ylabel(y_label)\n",
    "\n",
    "    # Display legend\n",
    "    ax.legend(loc = 'best')"
   ]
  }
 ],
 "metadata": {
  "kernelspec": {
   "display_name": "Python 3",
   "language": "python",
   "name": "python3"
  },
  "language_info": {
   "codemirror_mode": {
    "name": "ipython",
    "version": 3
   },
   "file_extension": ".py",
   "mimetype": "text/x-python",
   "name": "python",
   "nbconvert_exporter": "python",
   "pygments_lexer": "ipython3",
   "version": "3.6.4"
  }
 },
 "nbformat": 4,
 "nbformat_minor": 2
}
