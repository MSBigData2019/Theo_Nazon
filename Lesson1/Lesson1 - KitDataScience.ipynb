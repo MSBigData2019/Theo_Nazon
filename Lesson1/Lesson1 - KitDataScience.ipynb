{
 "cells": [
  {
   "cell_type": "markdown",
   "metadata": {},
   "source": [
    "# <span style=\"color:#197596\">Lesson1 - Kit DataSc</span>\n",
    "## <span style=\"color:#197596\">Theo Nazon</span>\n"
   ]
  },
  {
   "cell_type": "markdown",
   "metadata": {},
   "source": [
    "## <span style=\"color:#21a0ce\">List_1</span>\n"
   ]
  },
  {
   "cell_type": "markdown",
   "metadata": {},
   "source": [
    "### <span style=\"color:#8abbcc\">// 1. match_ends //</span>\n"
   ]
  },
  {
   "cell_type": "code",
   "execution_count": 37,
   "metadata": {
    "code_folding": []
   },
   "outputs": [],
   "source": [
    "# Given a list of strings, return the count of the number of strings where the string\n",
    "# length is 2 or more and the first and last chars of the string are the same.\n",
    "def match_ends(words):\n",
    "    result = 0\n",
    "    for word in words:\n",
    "        if len(word) >= 2 and word[0] == word[-1]:\n",
    "            result += 1\n",
    "    return result"
   ]
  },
  {
   "cell_type": "markdown",
   "metadata": {},
   "source": [
    "***"
   ]
  },
  {
   "cell_type": "markdown",
   "metadata": {},
   "source": [
    "### <span style=\"color:#8abbcc\">// 2. front_x //</span>"
   ]
  },
  {
   "cell_type": "code",
   "execution_count": 38,
   "metadata": {
    "code_folding": []
   },
   "outputs": [],
   "source": [
    "# Given a list of strings, return a list with the strings\n",
    "# in sorted order, except group all the strings that begin with 'x' first.\n",
    "def front_x(words):\n",
    "    list_with_x = sorted([word for word in words if word[0] == \"x\"])\n",
    "    list_without_x = sorted([word for word in words if word[0] != \"x\"])\n",
    "    return list_with_x + list_without_x"
   ]
  },
  {
   "cell_type": "markdown",
   "metadata": {},
   "source": [
    "***"
   ]
  },
  {
   "cell_type": "markdown",
   "metadata": {},
   "source": [
    "### <span style=\"color:#8abbcc\">// 3. sort_last //</span>\n"
   ]
  },
  {
   "cell_type": "code",
   "execution_count": 39,
   "metadata": {
    "code_folding": []
   },
   "outputs": [],
   "source": [
    "# Given a list of non-empty tuples, return a list sorted in increasing\n",
    "# order by the last element in each tuple.\n",
    "def sort_last(tuples):\n",
    "    result = sorted(tuples, key=extract_from_tuple)\n",
    "    return result\n",
    "\n",
    "def extract_from_tuple(tuple):\n",
    "    return tuple[1]"
   ]
  },
  {
   "cell_type": "markdown",
   "metadata": {},
   "source": [
    "***"
   ]
  },
  {
   "cell_type": "markdown",
   "metadata": {},
   "source": [
    "### <span style=\"color:#8abbcc\">|| Test List_1 ||</span>\n"
   ]
  },
  {
   "cell_type": "code",
   "execution_count": 40,
   "metadata": {
    "code_folding": [
     0,
     2
    ],
    "scrolled": false
   },
   "outputs": [
    {
     "name": "stdout",
     "output_type": "stream",
     "text": [
      "match_ends\n",
      " OK  got: 3 expected: 3\n",
      " OK  got: 2 expected: 2\n",
      " OK  got: 1 expected: 1\n",
      "\n",
      "front_x\n",
      " OK  got: ['xaa', 'xzz', 'axx', 'bbb', 'ccc'] expected: ['xaa', 'xzz', 'axx', 'bbb', 'ccc']\n",
      " OK  got: ['xaa', 'xcc', 'aaa', 'bbb', 'ccc'] expected: ['xaa', 'xcc', 'aaa', 'bbb', 'ccc']\n",
      " OK  got: ['xanadu', 'xyz', 'aardvark', 'apple', 'mix'] expected: ['xanadu', 'xyz', 'aardvark', 'apple', 'mix']\n",
      "\n",
      "sort_last\n",
      " OK  got: [(2, 1), (3, 2), (1, 3)] expected: [(2, 1), (3, 2), (1, 3)]\n",
      " OK  got: [(3, 1), (1, 2), (2, 3)] expected: [(3, 1), (1, 2), (2, 3)]\n",
      " OK  got: [(2, 2), (1, 3), (3, 4, 5), (1, 7)] expected: [(2, 2), (1, 3), (3, 4, 5), (1, 7)]\n"
     ]
    }
   ],
   "source": [
    "# Tests performed on the list_1 exercices\n",
    "\n",
    "def test(got, expected):\n",
    "    if got == expected:\n",
    "      prefix = ' OK '\n",
    "    else:\n",
    "      prefix = '  X '\n",
    "    print(('%s got: %s expected: %s') % (prefix, repr(got), repr(expected)))\n",
    "\n",
    "\n",
    "# Provided main() calls the above functions with interesting inputs,\n",
    "# using test() to check if each result is correct or not.\n",
    "def main():\n",
    "    print('match_ends')\n",
    "    test(match_ends(['aba', 'xyz', 'aa', 'x', 'bbb']), 3)\n",
    "    test(match_ends(['', 'x', 'xy', 'xyx', 'xx']), 2)\n",
    "    test(match_ends(['aaa', 'be', 'abc', 'hello']), 1)\n",
    "\n",
    "    print()\n",
    "    print('front_x')\n",
    "    test(front_x(['bbb', 'ccc', 'axx', 'xzz', 'xaa']),\n",
    "         ['xaa', 'xzz', 'axx', 'bbb', 'ccc'])\n",
    "    test(front_x(['ccc', 'bbb', 'aaa', 'xcc', 'xaa']),\n",
    "         ['xaa', 'xcc', 'aaa', 'bbb', 'ccc'])\n",
    "    test(front_x(['mix', 'xyz', 'apple', 'xanadu', 'aardvark']),\n",
    "         ['xanadu', 'xyz', 'aardvark', 'apple', 'mix'])\n",
    "\n",
    "    print()\n",
    "    print('sort_last')\n",
    "    test(sort_last([(1, 3), (3, 2), (2, 1)]),\n",
    "         [(2, 1), (3, 2), (1, 3)])\n",
    "    test(sort_last([(2, 3), (1, 2), (3, 1)]),\n",
    "         [(3, 1), (1, 2), (2, 3)])\n",
    "    test(sort_last([(1, 7), (1, 3), (3, 4, 5), (2, 2)]),\n",
    "         [(2, 2), (1, 3), (3, 4, 5), (1, 7)])\n",
    "\n",
    "\n",
    "if __name__ == '__main__':\n",
    "    main()"
   ]
  },
  {
   "cell_type": "markdown",
   "metadata": {},
   "source": [
    "***"
   ]
  },
  {
   "cell_type": "markdown",
   "metadata": {},
   "source": [
    "## <span style=\"color:#21a0ce\">List_2</span>\n"
   ]
  },
  {
   "cell_type": "markdown",
   "metadata": {},
   "source": [
    "### <span style=\"color:#8abbcc\">// 1. remove_adjacent //</span>\n"
   ]
  },
  {
   "cell_type": "code",
   "execution_count": 41,
   "metadata": {},
   "outputs": [],
   "source": [
    "# Given a list of numbers, return a list where\n",
    "# all adjacent == elements have been reduced to a single element,\n",
    "def remove_adjacent(nums):\n",
    "    result_unique = []\n",
    "    for value in nums:\n",
    "        # Add value only if the last added element to the result list is different than current value\n",
    "        if len(result_unique) == 0 or value != result_unique[-1]:\n",
    "            result_unique.append(value)\n",
    "    return result_unique"
   ]
  },
  {
   "cell_type": "markdown",
   "metadata": {},
   "source": [
    "***"
   ]
  },
  {
   "cell_type": "markdown",
   "metadata": {},
   "source": [
    "### <span style=\"color:#8abbcc\">// 2. linear_merge //</span>"
   ]
  },
  {
   "cell_type": "code",
   "execution_count": 42,
   "metadata": {
    "code_folding": []
   },
   "outputs": [],
   "source": [
    "def linear_merge(list1, list2):\n",
    "    pointer_list1 = 0\n",
    "    pointer_list2 = 0\n",
    "    result = []\n",
    "    for i in range(len(list1)+len(list2)):\n",
    "        if pointer_list1 > len(list1)-1:\n",
    "            result.extend(list2[pointer_list2:])\n",
    "            break\n",
    "        elif pointer_list2 > len(list2)-1:\n",
    "            result.extend(list1[pointer_list1:])\n",
    "            break\n",
    "        elif list1[pointer_list1] < list2[pointer_list2]:\n",
    "            result.append(list1[pointer_list1])\n",
    "            pointer_list1 += 1\n",
    "        else:\n",
    "            result.append(list2[pointer_list2])\n",
    "            pointer_list2 += 1\n",
    "    return result\n"
   ]
  },
  {
   "cell_type": "markdown",
   "metadata": {},
   "source": [
    "***"
   ]
  },
  {
   "cell_type": "markdown",
   "metadata": {},
   "source": [
    "### <span style=\"color:#8abbcc\">|| Test List_2 ||</span>\n"
   ]
  },
  {
   "cell_type": "code",
   "execution_count": 43,
   "metadata": {
    "code_folding": [
     0,
     3,
     4,
     6,
     12,
     19,
     21,
     23,
     27
    ]
   },
   "outputs": [
    {
     "name": "stdout",
     "output_type": "stream",
     "text": [
      "remove_adjacent\n",
      " OK  got: [1, 2, 3] expected: [1, 2, 3]\n",
      " OK  got: [2, 3] expected: [2, 3]\n",
      " OK  got: [] expected: []\n",
      "linear_merge\n",
      " OK  got: ['aa', 'bb', 'cc', 'xx', 'zz'] expected: ['aa', 'bb', 'cc', 'xx', 'zz']\n",
      " OK  got: ['aa', 'bb', 'cc', 'xx', 'zz'] expected: ['aa', 'bb', 'cc', 'xx', 'zz']\n",
      " OK  got: ['aa', 'aa', 'aa', 'bb', 'bb'] expected: ['aa', 'aa', 'aa', 'bb', 'bb']\n"
     ]
    }
   ],
   "source": [
    "# Tests performed on the list_2 exercices\n",
    "\n",
    "\n",
    "def test(got, expected):\n",
    "    if got == expected:\n",
    "        prefix = ' OK '\n",
    "    else:\n",
    "        prefix = '  X '\n",
    "    print(('%s got: %s expected: %s') % (prefix, repr(got), repr(expected)))\n",
    "\n",
    "\n",
    "# Calls the above functions with interesting inputs.\n",
    "def main():\n",
    "    print('remove_adjacent')\n",
    "    test(remove_adjacent([1, 2, 2, 3]), [1, 2, 3])\n",
    "    test(remove_adjacent([2, 2, 3, 3, 3]), [2, 3])\n",
    "    test(remove_adjacent([]), [])\n",
    "\n",
    "    print('linear_merge')\n",
    "    test(linear_merge(['aa', 'xx', 'zz'], ['bb', 'cc']),\n",
    "       ['aa', 'bb', 'cc', 'xx', 'zz'])\n",
    "    test(linear_merge(['aa', 'xx'], ['bb', 'cc', 'zz']),\n",
    "       ['aa', 'bb', 'cc', 'xx', 'zz'])\n",
    "    test(linear_merge(['aa', 'aa'], ['aa', 'bb', 'bb']),\n",
    "       ['aa', 'aa', 'aa', 'bb', 'bb'])\n",
    "\n",
    "\n",
    "if __name__ == '__main__':\n",
    "    main()"
   ]
  },
  {
   "cell_type": "markdown",
   "metadata": {},
   "source": [
    "***"
   ]
  },
  {
   "cell_type": "markdown",
   "metadata": {},
   "source": [
    "## <span style=\"color:#21a0ce\">String_1</span>"
   ]
  },
  {
   "cell_type": "markdown",
   "metadata": {},
   "source": [
    "### <span style=\"color:#8abbcc\">// 1. donuts //</span>"
   ]
  },
  {
   "cell_type": "code",
   "execution_count": 44,
   "metadata": {},
   "outputs": [],
   "source": [
    "def donuts(count):\n",
    "    result = str(count) if count < 10 else \"many\"\n",
    "    return \"Number of donuts: %s\" % result"
   ]
  },
  {
   "cell_type": "markdown",
   "metadata": {},
   "source": [
    "***"
   ]
  },
  {
   "cell_type": "markdown",
   "metadata": {},
   "source": [
    "### <span style=\"color:#8abbcc\">// 2. both_ends //</span>\n"
   ]
  },
  {
   "cell_type": "code",
   "execution_count": 45,
   "metadata": {},
   "outputs": [],
   "source": [
    "def both_ends(s):\n",
    "    reviewed_string = s[:2] + s[-2:] if len(s) >= 2 else \"\"\n",
    "    return reviewed_string"
   ]
  },
  {
   "cell_type": "markdown",
   "metadata": {},
   "source": [
    "***"
   ]
  },
  {
   "cell_type": "markdown",
   "metadata": {},
   "source": [
    "### <span style=\"color:#8abbcc\">// 3. fix_start //</span>\n"
   ]
  },
  {
   "cell_type": "code",
   "execution_count": 46,
   "metadata": {},
   "outputs": [],
   "source": [
    "def fix_start(s):\n",
    "    reviewed_string = s[0] + s[1:].replace(s[0], \"*\")\n",
    "    return reviewed_string"
   ]
  },
  {
   "cell_type": "markdown",
   "metadata": {},
   "source": [
    "***"
   ]
  },
  {
   "cell_type": "markdown",
   "metadata": {},
   "source": [
    "### <span style=\"color:#8abbcc\">// 4. mix_up //</span>\n"
   ]
  },
  {
   "cell_type": "code",
   "execution_count": 47,
   "metadata": {},
   "outputs": [],
   "source": [
    "def mix_up(a, b):\n",
    "    reviewed_string = b[:2] + a[2:] + \" \" + a[:2] + b[2:]\n",
    "    return reviewed_string"
   ]
  },
  {
   "cell_type": "markdown",
   "metadata": {},
   "source": [
    "***"
   ]
  },
  {
   "cell_type": "markdown",
   "metadata": {},
   "source": [
    "### <span style=\"color:#8abbcc\">|| Test String_1 ||</span>\n"
   ]
  },
  {
   "cell_type": "code",
   "execution_count": 48,
   "metadata": {
    "code_folding": [
     0
    ]
   },
   "outputs": [
    {
     "name": "stdout",
     "output_type": "stream",
     "text": [
      "donuts\n",
      " OK  got: 'Number of donuts: 4' expected: 'Number of donuts: 4'\n",
      " OK  got: 'Number of donuts: 9' expected: 'Number of donuts: 9'\n",
      " OK  got: 'Number of donuts: many' expected: 'Number of donuts: many'\n",
      " OK  got: 'Number of donuts: many' expected: 'Number of donuts: many'\n",
      "both_ends\n",
      " OK  got: 'spng' expected: 'spng'\n",
      " OK  got: 'Helo' expected: 'Helo'\n",
      " OK  got: '' expected: ''\n",
      " OK  got: 'xyyz' expected: 'xyyz'\n",
      "fix_start\n",
      " OK  got: 'ba**le' expected: 'ba**le'\n",
      " OK  got: 'a*rdv*rk' expected: 'a*rdv*rk'\n",
      " OK  got: 'goo*le' expected: 'goo*le'\n",
      " OK  got: 'donut' expected: 'donut'\n",
      "mix_up\n",
      " OK  got: 'pox mid' expected: 'pox mid'\n",
      " OK  got: 'dig donner' expected: 'dig donner'\n",
      " OK  got: 'spash gnort' expected: 'spash gnort'\n",
      " OK  got: 'fizzy perm' expected: 'fizzy perm'\n"
     ]
    }
   ],
   "source": [
    "# Tests performed on the string_1 exercices\n",
    "\n",
    "\n",
    "def test(got, expected):\n",
    "    if got == expected:\n",
    "        prefix = ' OK '\n",
    "    else:\n",
    "        prefix = '  X '\n",
    "    print('%s got: %s expected: %s' % (prefix, repr(got), repr(expected)))\n",
    "\n",
    "\n",
    "# Provided main() calls the above functions with interesting inputs,\n",
    "# using test() to check if each result is correct or not.\n",
    "def main():\n",
    "    print('donuts')\n",
    "    # Each line calls donuts, compares its result to the expected for that call.\n",
    "    test(donuts(4), 'Number of donuts: 4')\n",
    "    test(donuts(9), 'Number of donuts: 9')\n",
    "    test(donuts(10), 'Number of donuts: many')\n",
    "    test(donuts(99), 'Number of donuts: many')\n",
    "\n",
    "    print('both_ends')\n",
    "    test(both_ends('spring'), 'spng')\n",
    "    test(both_ends('Hello'), 'Helo')\n",
    "    test(both_ends('a'), '')\n",
    "    test(both_ends('xyz'), 'xyyz')\n",
    "\n",
    "    print('fix_start')\n",
    "    test(fix_start('babble'), 'ba**le')\n",
    "    test(fix_start('aardvark'), 'a*rdv*rk')\n",
    "    test(fix_start('google'), 'goo*le')\n",
    "    test(fix_start('donut'), 'donut')\n",
    "\n",
    "    print('mix_up')\n",
    "    test(mix_up('mix', 'pod'), 'pox mid')\n",
    "    test(mix_up('dog', 'dinner'), 'dig donner')\n",
    "    test(mix_up('gnash', 'sport'), 'spash gnort')\n",
    "    test(mix_up('pezzy', 'firm'), 'fizzy perm')\n",
    "\n",
    "\n",
    "# Standard boilerplate to call the main() function.\n",
    "if __name__ == '__main__':\n",
    "    main()\n"
   ]
  },
  {
   "cell_type": "markdown",
   "metadata": {},
   "source": [
    "***"
   ]
  },
  {
   "cell_type": "markdown",
   "metadata": {},
   "source": [
    "## <span style=\"color:#21a0ce\">String_2</span>"
   ]
  },
  {
   "cell_type": "markdown",
   "metadata": {},
   "source": [
    "### <span style=\"color:#8abbcc\">// 1. verbing //</span>\n"
   ]
  },
  {
   "cell_type": "code",
   "execution_count": 49,
   "metadata": {},
   "outputs": [],
   "source": [
    "def verbing(s):\n",
    "    result = s\n",
    "    if len(s) >= 3:\n",
    "        if s[-3:] == \"ing\": result += \"ly\"\n",
    "        else: result += \"ing\"\n",
    "    return result"
   ]
  },
  {
   "cell_type": "markdown",
   "metadata": {},
   "source": [
    "***"
   ]
  },
  {
   "cell_type": "markdown",
   "metadata": {},
   "source": [
    "### <span style=\"color:#8abbcc\">// 2. not_bad //</span>"
   ]
  },
  {
   "cell_type": "code",
   "execution_count": 50,
   "metadata": {},
   "outputs": [],
   "source": [
    "def not_bad(s):\n",
    "    not_idx = s.find(\"not\")\n",
    "    bad_idx = s.find(\"bad\")\n",
    "    if not_idx == -1 or bad_idx == -1 or bad_idx < not_idx:\n",
    "        return s\n",
    "    else:\n",
    "        s = s[:not_idx] + \"good\" + s[bad_idx+len(\"bad\"):]\n",
    "    return s"
   ]
  },
  {
   "cell_type": "markdown",
   "metadata": {},
   "source": [
    "***"
   ]
  },
  {
   "cell_type": "markdown",
   "metadata": {},
   "source": [
    "### <span style=\"color:#8abbcc\">// 3. front_back //</span>"
   ]
  },
  {
   "cell_type": "code",
   "execution_count": 51,
   "metadata": {},
   "outputs": [],
   "source": [
    "def front_back(a, b):\n",
    "    a_split = string_splitter(a)\n",
    "    b_split = string_splitter(b)\n",
    "    return a_split[0] + b_split[0] + a_split[1] + b_split[1]\n",
    "\n",
    "def string_splitter(s):\n",
    "    if len(s)%2 == 0:\n",
    "        s_front = s[0:len(s)//2]\n",
    "        s_back  = s[len(s)//2:]\n",
    "    else:\n",
    "        s_front = s[0:len(s)//2 + 1]\n",
    "        s_back  = s[len(s)//2 + 1:]\n",
    "    return (s_front, s_back)\n",
    "\n"
   ]
  },
  {
   "cell_type": "markdown",
   "metadata": {},
   "source": [
    "***"
   ]
  },
  {
   "cell_type": "markdown",
   "metadata": {},
   "source": [
    "### <span style=\"color:#8abbcc\">|| Test String_2 ||</span>"
   ]
  },
  {
   "cell_type": "code",
   "execution_count": 56,
   "metadata": {
    "code_folding": [
     0
    ]
   },
   "outputs": [
    {
     "name": "stdout",
     "output_type": "stream",
     "text": [
      "verbing\n",
      " OK  got: 'hailing' expected: 'hailing'\n",
      " OK  got: 'swimingly' expected: 'swimingly'\n",
      " OK  got: 'do' expected: 'do'\n",
      "not_bad\n",
      " OK  got: 'This movie is good' expected: 'This movie is good'\n",
      " OK  got: 'This dinner is good!' expected: 'This dinner is good!'\n",
      " OK  got: 'This tea is not hot' expected: 'This tea is not hot'\n",
      " OK  got: \"It's bad yet not\" expected: \"It's bad yet not\"\n",
      "front_back\n",
      " OK  got: 'abxcdy' expected: 'abxcdy'\n",
      " OK  got: 'abcxydez' expected: 'abcxydez'\n",
      " OK  got: 'KitDontenut' expected: 'KitDontenut'\n"
     ]
    }
   ],
   "source": [
    "# Tests performed on the string_2 exercices\n",
    "\n",
    "def test(got, expected):\n",
    "    if got == expected:\n",
    "        prefix = ' OK '\n",
    "    else:\n",
    "        prefix = '  X '\n",
    "    print(('%s got: %s expected: %s') % (prefix, repr(got), repr(expected)))\n",
    "\n",
    "\n",
    "# main() calls the above functions with interesting inputs,\n",
    "# using the above test() to check if the result is correct or not.\n",
    "def main():\n",
    "    print('verbing')\n",
    "    test(verbing('hail'), 'hailing')\n",
    "    test(verbing('swiming'), 'swimingly')\n",
    "    test(verbing('do'), 'do')\n",
    "\n",
    "    print('not_bad')\n",
    "    test(not_bad('This movie is not so bad'), 'This movie is good')\n",
    "    test(not_bad('This dinner is not that bad!'), 'This dinner is good!')\n",
    "    test(not_bad('This tea is not hot'), 'This tea is not hot')\n",
    "    test(not_bad(\"It's bad yet not\"), \"It's bad yet not\")\n",
    "\n",
    "    print('front_back')\n",
    "    test(front_back('abcd', 'xy'), 'abxcdy')\n",
    "    test(front_back('abcde', 'xyz'), 'abcxydez')\n",
    "    test(front_back('Kitten', 'Donut'), 'KitDontenut')\n",
    "\n",
    "if __name__ == '__main__':\n",
    "    main()"
   ]
  },
  {
   "cell_type": "markdown",
   "metadata": {},
   "source": [
    "***"
   ]
  },
  {
   "cell_type": "markdown",
   "metadata": {},
   "source": [
    "## <span style=\"color:#21a0ce\">WordCount</span>"
   ]
  },
  {
   "cell_type": "code",
   "execution_count": 53,
   "metadata": {},
   "outputs": [],
   "source": [
    "# WordCount including a wordcleaner to ignore punctuation\n",
    "\n",
    "def from_file_to_dict(filename):\n",
    "    dict_output = {}\n",
    "    file_to_process = open(filename, 'r')\n",
    "    file_string = file_to_process.read()\n",
    "    for item in file_string.split():\n",
    "        # Remove any punctuation from item to ensure proper counting\n",
    "        item_cleaned = word_cleaner(item)\n",
    "        if item_cleaned in dict_output.keys():\n",
    "            dict_output[item_cleaned] += 1\n",
    "        else:\n",
    "            dict_output[item_cleaned] = 1\n",
    "    file_to_process.close()\n",
    "    return dict_output\n",
    "\n",
    "\n",
    "def word_cleaner(word):\n",
    "    # Remove any punctuation from a word\n",
    "    exclude = set(string.punctuation)\n",
    "    result = ''.join(ch for ch in word.lower() if ch not in exclude)\n",
    "    return result\n",
    "\n",
    "\n",
    "def print_words(filename):\n",
    "    result_dict = from_file_to_dict(filename)\n",
    "    for key in sorted(result_dict):\n",
    "        print(key, result_dict[key])\n",
    "    return None\n",
    "\n",
    "\n",
    "def print_top(filename):\n",
    "    result_dict = from_file_to_dict(filename)\n",
    "    sorted_keys = sorted(result_dict, key=result_dict.get, reverse=True)\n",
    "    for key in sorted_keys:\n",
    "        print(key, result_dict[key])\n",
    "    return None"
   ]
  },
  {
   "cell_type": "markdown",
   "metadata": {},
   "source": [
    "***"
   ]
  },
  {
   "cell_type": "markdown",
   "metadata": {},
   "source": [
    "## <span style=\"color:#21a0ce\">Mimic</span>"
   ]
  },
  {
   "cell_type": "code",
   "execution_count": 54,
   "metadata": {},
   "outputs": [],
   "source": [
    "def mimic_dict(filename):\n",
    "    dict = {}\n",
    "    previous_word = ''\n",
    "    file = open(filename, \"r\")\n",
    "    file_s = file.read()\n",
    "    file_string = file_s.split()\n",
    "    file.close()\n",
    "    # If word is already a dictionnary key, append the corresponding value (a list) with the new word\n",
    "    # Else create a new key:value pair with value equals the word as a list\n",
    "    for word in file_string:\n",
    "        if previous_word in dict:\n",
    "            dict[previous_word].append(word)\n",
    "        else:\n",
    "            dict[previous_word] = [word]\n",
    "        previous_word = word\n",
    "    print(len(dict))\n",
    "    return dict\n",
    "\n",
    "\n",
    "def print_mimic(mimic_dict, word):\n",
    "    # \"\"Given mimic dict and start word, prints 200 random words.\"\"\"\n",
    "    final_text = word\n",
    "    for i in range(200):\n",
    "        possible_words = mimic_dict.get(word)\n",
    "        if possible_words is None:\n",
    "            possible_words = mimic_dict[\"\"]\n",
    "        word = random.choice(possible_words)\n",
    "        final_text = final_text + \" \" + word\n",
    "    print(final_text)"
   ]
  },
  {
   "cell_type": "markdown",
   "metadata": {},
   "source": [
    "***"
   ]
  }
 ],
 "metadata": {
  "kernelspec": {
   "display_name": "Python 3",
   "language": "python",
   "name": "python3"
  },
  "language_info": {
   "codemirror_mode": {
    "name": "ipython",
    "version": 3
   },
   "file_extension": ".py",
   "mimetype": "text/x-python",
   "name": "python",
   "nbconvert_exporter": "python",
   "pygments_lexer": "ipython3",
   "version": "3.6.4"
  }
 },
 "nbformat": 4,
 "nbformat_minor": 2
}
